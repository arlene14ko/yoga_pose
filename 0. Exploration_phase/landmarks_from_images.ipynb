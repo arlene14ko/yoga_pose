{
 "metadata": {
  "language_info": {
   "codemirror_mode": {
    "name": "ipython",
    "version": 3
   },
   "file_extension": ".py",
   "mimetype": "text/x-python",
   "name": "python",
   "nbconvert_exporter": "python",
   "pygments_lexer": "ipython3",
   "version": "3.8.8"
  },
  "orig_nbformat": 2,
  "kernelspec": {
   "name": "python388jvsc74a57bd0ce7e62928b41379705e6547fe76f36c88efd162d928313c1b99323d61924fb21",
   "display_name": "Python 3.8.8 64-bit ('vision': conda)"
  },
  "metadata": {
   "interpreter": {
    "hash": "ce7e62928b41379705e6547fe76f36c88efd162d928313c1b99323d61924fb21"
   }
  }
 },
 "nbformat": 4,
 "nbformat_minor": 2,
 "cells": [
  {
   "cell_type": "code",
   "execution_count": 3,
   "metadata": {},
   "outputs": [],
   "source": [
    "import cv2\n",
    "import mediapipe as mp\n",
    "import os\n",
    "import pandas as pd"
   ]
  },
  {
   "cell_type": "code",
   "execution_count": 4,
   "metadata": {},
   "outputs": [
    {
     "output_type": "execute_result",
     "data": {
      "text/plain": [
       "['Adho mukha svanasana - Downward-facing Dog']"
      ]
     },
     "metadata": {},
     "execution_count": 4
    }
   ],
   "source": [
    "os.listdir('data')"
   ]
  },
  {
   "cell_type": "code",
   "execution_count": 5,
   "metadata": {},
   "outputs": [],
   "source": [
    "d=[]\n",
    "for i in os.listdir('data'):\n",
    "    for f in os.listdir('data/'+i):\n",
    "        d.append((f'{i}', f'data/{i}/{f}'))"
   ]
  },
  {
   "cell_type": "code",
   "execution_count": 6,
   "metadata": {},
   "outputs": [],
   "source": [
    "df=pd.DataFrame(d, columns=('Pose', 'Path'))"
   ]
  },
  {
   "cell_type": "code",
   "execution_count": 7,
   "metadata": {},
   "outputs": [],
   "source": [
    "df['image']=df['Path'].apply(lambda x: cv2.imread(x))"
   ]
  },
  {
   "cell_type": "code",
   "execution_count": 8,
   "metadata": {},
   "outputs": [],
   "source": [
    "def landmarks_extraction(x):\n",
    "    with mp_pose.Pose(static_image_mode=True, min_detection_confidence=0.5, model_complexity=2) as pose:\n",
    "        # Convert the BGR image to RGB and process it with MediaPipe Pose.\n",
    "        results = pose.process(cv2.cvtColor(x, cv2.COLOR_BGR2RGB))\n",
    "        # Extract Landmarks\n",
    "        try:\n",
    "            landmarks = results.pose_landmarks.landmark\n",
    "            # Body Parts\n",
    "            left_shoulder_x = landmarks[mp_pose.PoseLandmark.LEFT_SHOULDER.value].x\n",
    "            left_shoulder_y = landmarks[mp_pose.PoseLandmark.LEFT_SHOULDER.value].y\n",
    "            right_shoulder_x = landmarks[mp_pose.PoseLandmark.RIGHT_SHOULDER.value].x\n",
    "            right_shoulder_y = landmarks[mp_pose.PoseLandmark.RIGHT_SHOULDER.value].y\n",
    "            left_elbow_x = landmarks[mp_pose.PoseLandmark.LEFT_ELBOW.value].x\n",
    "            left_elbow_y = landmarks[mp_pose.PoseLandmark.LEFT_ELBOW.value].y\n",
    "            right_elbow_x = landmarks[mp_pose.PoseLandmark.RIGHT_ELBOW.value].x\n",
    "            right_elbow_y = landmarks[mp_pose.PoseLandmark.RIGHT_ELBOW.value].y\n",
    "            left_wrist_x = landmarks[mp_pose.PoseLandmark.LEFT_WRIST.value].x\n",
    "            left_wrist_y= landmarks[mp_pose.PoseLandmark.LEFT_WRIST.value].y\n",
    "            right_wrist_x = landmarks[mp_pose.PoseLandmark.RIGHT_WRIST.value].x\n",
    "            right_wrist_y= landmarks[mp_pose.PoseLandmark.RIGHT_WRIST.value].y\n",
    "            left_hip_x = landmarks[mp_pose.PoseLandmark.LEFT_HIP.value].x\n",
    "            left_hip_y= landmarks[mp_pose.PoseLandmark.LEFT_HIP.value].y\n",
    "            right_hip_x = landmarks[mp_pose.PoseLandmark.RIGHT_HIP.value].x\n",
    "            right_hip_y= landmarks[mp_pose.PoseLandmark.RIGHT_HIP.value].y\n",
    "            left_knee_x = landmarks[mp_pose.PoseLandmark.LEFT_KNEE.value].x\n",
    "            left_knee_y= landmarks[mp_pose.PoseLandmark.LEFT_KNEE.value].y\n",
    "            right_knee_x = landmarks[mp_pose.PoseLandmark.RIGHT_KNEE.value].x\n",
    "            right_knee_y= landmarks[mp_pose.PoseLandmark.RIGHT_KNEE.value].y\n",
    "            left_ankle_x = landmarks[mp_pose.PoseLandmark.LEFT_ANKLE.value].x\n",
    "            left_ankle_y= landmarks[mp_pose.PoseLandmark.LEFT_ANKLE.value].y\n",
    "            right_ankle_x = landmarks[mp_pose.PoseLandmark.RIGHT_ANKLE.value].x\n",
    "            right_ankle_y= landmarks[mp_pose.PoseLandmark.RIGHT_ANKLE.value].y\n",
    "\n",
    "            return pd.Series([left_shoulder_x, left_shoulder_y, right_shoulder_x, right_shoulder_y, left_elbow_x, left_elbow_y, right_elbow_x, right_elbow_y, left_wrist_x, left_wrist_y, right_wrist_x, right_wrist_y, left_hip_x, left_hip_y, right_hip_x, right_hip_y, left_knee_x, left_knee_y, right_knee_x, right_knee_y, left_ankle_x, left_ankle_y, right_ankle_x, right_ankle_y])\n",
    "        except:\n",
    "            pass\n"
   ]
  },
  {
   "cell_type": "code",
   "execution_count": null,
   "metadata": {},
   "outputs": [],
   "source": [
    "df[['left_shoulder_x','left_shoulder_y', 'right_shoulder_x', 'right_shoulder_y', 'left_elbow_x', 'left_elbow_y', 'right_elbow_x', 'right_elbow_y', 'left_wrist_x', 'left_wrist_y', 'right_wrist_x', 'right_wrist_y', 'left_hip_x', 'left_hip_y', 'right_hip_x', 'right_hip_y', 'left_knee_x', 'left_knee_y', 'right_knee_x', 'right_knee_y', 'left_ankle_x', 'left_ankle_y', 'right_ankle_x', 'right_ankle_y']]=df['image'].apply(landmarks_extraction)"
   ]
  },
  {
   "cell_type": "code",
   "execution_count": null,
   "metadata": {},
   "outputs": [],
   "source": [
    "df.to_csv('df.csv', index=False)"
   ]
  }
 ]
}